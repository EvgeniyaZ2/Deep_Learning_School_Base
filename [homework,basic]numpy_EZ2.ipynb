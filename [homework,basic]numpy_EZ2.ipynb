{
 "cells": [
  {
   "cell_type": "markdown",
   "metadata": {
    "id": "KxIquH6GK7kt"
   },
   "source": [
    "<p style=\"align: center;\"><img align=center src=\"https://s8.hostingkartinok.com/uploads/images/2018/08/308b49fcfbc619d629fe4604bceb67ac.jpg\" width=500 height=450/></p>\n",
    "\n",
    "<h3 style=\"text-align: center;\"><b>Физтех-Школа Прикладной математики и информатики (ФПМИ) МФТИ</b></h3>"
   ]
  },
  {
   "cell_type": "markdown",
   "metadata": {
    "id": "h8gsBtzoGEhe"
   },
   "source": [
    "---"
   ]
  },
  {
   "cell_type": "markdown",
   "metadata": {
    "id": "f32591XJK7kw"
   },
   "source": [
    "## Домашнее задание: библиотека Numpy и линейная алгебра. Решение\n"
   ]
  },
  {
   "cell_type": "code",
   "execution_count": 1,
   "metadata": {
    "id": "YEJ8DQ4QK7kx"
   },
   "outputs": [],
   "source": [
    "import numpy as np\n",
    "import random\n",
    "import scipy.stats as sps"
   ]
  },
  {
   "cell_type": "markdown",
   "metadata": {
    "id": "5_eFZpeoK7k2"
   },
   "source": [
    "### Numpy"
   ]
  },
  {
   "cell_type": "markdown",
   "metadata": {
    "id": "hYXhVX0eK7k2"
   },
   "source": [
    "### Задание 1\n",
    "В первой задаче вам предлагается перемножить две квадратные матрицы двумя способами -- без использования пакета ***numpy*** и с ним."
   ]
  },
  {
   "cell_type": "code",
   "execution_count": 2,
   "metadata": {
    "id": "zJR8EANzK7k3"
   },
   "outputs": [
    {
     "name": "stdout",
     "output_type": "stream",
     "text": [
      "[[0.88809165 0.80933556 0.69517981 ... 0.78687589 0.82007836 0.69311413]\n",
      " [0.66299843 0.94268316 0.18203767 ... 0.98083919 0.64720451 0.73443126]\n",
      " [0.40227343 0.06416691 0.00573907 ... 0.97814839 0.4382885  0.48329427]\n",
      " ...\n",
      " [0.0617475  0.21967194 0.83607061 ... 0.92394507 0.26871196 0.54915267]\n",
      " [0.16801304 0.59662731 0.64441546 ... 0.30545398 0.85212444 0.98147347]\n",
      " [0.29552853 0.4924888  0.94694845 ... 0.41296777 0.34686606 0.78267987]]\n",
      "2 (100, 100)\n",
      "[[0.93969705 0.76433739 0.14172619 ... 0.59357202 0.85236926 0.05624859]\n",
      " [0.04507093 0.07905672 0.95360382 ... 0.60316577 0.09375439 0.92887752]\n",
      " [0.6397242  0.58562993 0.97206456 ... 0.94237772 0.67572899 0.37559828]\n",
      " ...\n",
      " [0.0621377  0.45779113 0.08534852 ... 0.58756965 0.49423483 0.91874665]\n",
      " [0.62658976 0.93189411 0.08248675 ... 0.98905532 0.2769535  0.86896495]\n",
      " [0.23705616 0.35632173 0.48611647 ... 0.7360786  0.75671476 0.46547295]]\n",
      "2 (100, 100)\n"
     ]
    }
   ],
   "source": [
    "# Для генерации матриц используем фукнцию random -- она используется для генерации случайных объектов \n",
    "# функция sample создает случайную выборку. В качестве аргумента ей передается кортеж (i,j),  \n",
    "# здесь i -- число строк, j -- число столбцов.\n",
    "a = np.random.sample((100, 100))\n",
    "b = np.random.sample((100, 100))\n",
    "# выведите размерность (ранг) каждой матрицы с помощью функции ndim.\n",
    "# Используйте функцию shape, что она вывела?\n",
    "\n",
    "print(a)\n",
    "print(a.ndim, a.shape)\n",
    "print(b)\n",
    "print(b.ndim, b.shape)"
   ]
  },
  {
   "cell_type": "code",
   "execution_count": 3,
   "metadata": {},
   "outputs": [],
   "source": [
    "a_list = list(a)\n",
    "a_list = [list(i) for i in a_list]\n",
    "b_list = list(b)\n",
    "b_list = [list(i) for i in b_list]"
   ]
  },
  {
   "cell_type": "code",
   "execution_count": 4,
   "metadata": {
    "id": "bkWCI4TPK7k8"
   },
   "outputs": [],
   "source": [
    "def mult(a, b):\n",
    "    # здесь напишите перемножение матриц без \n",
    "    # использования NumPy и выведите результат\n",
    "    c = []\n",
    "    for i in range(len(a)):\n",
    "        d = []\n",
    "        for j in range(len(a[0])):\n",
    "            d.append(sum([n * m for n, m in zip(a[i], list(zip(*b))[j])])) \n",
    "            # list(zip(*b)) - аналог транспонирования матрицы, поэтому перемножаем не строка*столбец, а две строки\n",
    "            # Он дает список кортежей, в этом случае это подходит\n",
    "            # Но если бы был нужен список списков,то нужно было бы использовать list(map(list, zip(*b)))\n",
    "        c.append(d)    \n",
    "    return c    "
   ]
  },
  {
   "cell_type": "code",
   "execution_count": 5,
   "metadata": {
    "id": "IIgYD1W5K7lB"
   },
   "outputs": [],
   "source": [
    "def np_mult(a, b):\n",
    "    # здесь напишите перемножение матриц с\n",
    "    # использованием NumPy и выведите результат\n",
    "    return np.dot(a, b)"
   ]
  },
  {
   "cell_type": "code",
   "execution_count": 6,
   "metadata": {
    "id": "tktkYzUHK7lE"
   },
   "outputs": [
    {
     "name": "stdout",
     "output_type": "stream",
     "text": [
      "Wall time: 948 ms\n"
     ]
    }
   ],
   "source": [
    "%%time\n",
    "# засечем время работы функции без NumPy\n",
    "M1 = mult(a_list, b_list)"
   ]
  },
  {
   "cell_type": "code",
   "execution_count": 7,
   "metadata": {
    "id": "TmD0adgHK7lK"
   },
   "outputs": [
    {
     "name": "stdout",
     "output_type": "stream",
     "text": [
      "Wall time: 38.1 ms\n"
     ]
    }
   ],
   "source": [
    "%%time\n",
    "# засечем время работы функции с NumPy\n",
    "M2 = np_mult(a, b)"
   ]
  },
  {
   "cell_type": "code",
   "execution_count": 8,
   "metadata": {
    "id": "oftqyANQK7lS"
   },
   "outputs": [
    {
     "data": {
      "text/plain": [
       "1.7209345060109627e-11"
      ]
     },
     "execution_count": 8,
     "metadata": {},
     "output_type": "execute_result"
    }
   ],
   "source": [
    "# проверим корректность\n",
    "np.abs(np.array(M1) - M2).sum()"
   ]
  },
  {
   "cell_type": "markdown",
   "metadata": {
    "id": "2itTyTlcaHAu"
   },
   "source": [
    "### Задание 2"
   ]
  },
  {
   "cell_type": "markdown",
   "metadata": {
    "id": "BCemQSq-aEbO"
   },
   "source": [
    "Вам подаются на вход два вектора `a` и `b` в трехмерном пространстве. Заполните их случайными числами. Реализуйте их скалярное произведение с помощью  `NumPy` и без. Засеките время работы, как это показано в заданиях выше."
   ]
  },
  {
   "cell_type": "code",
   "execution_count": 9,
   "metadata": {
    "id": "lWhr_gPSZ9o_"
   },
   "outputs": [
    {
     "name": "stdout",
     "output_type": "stream",
     "text": [
      "[0.41874257 0.50680329 0.8279572 ] [0.69281483 0.12886331 0.14287948]\n"
     ]
    }
   ],
   "source": [
    "a = np.random.sample((1, 3))\n",
    "a = list(a)[0]\n",
    "b = np.random.sample((1, 3))\n",
    "b = list(b)[0]\n",
    "print(a, b)"
   ]
  },
  {
   "cell_type": "code",
   "execution_count": 10,
   "metadata": {
    "id": "GjlkcHIWZ_ae"
   },
   "outputs": [],
   "source": [
    "def scalar_product(a,b):\n",
    "    #YOUR CODE\n",
    "    return sum(n * m for n, m in zip(a, b))"
   ]
  },
  {
   "cell_type": "code",
   "execution_count": 11,
   "metadata": {
    "id": "C2M-OAp5Z_6a"
   },
   "outputs": [],
   "source": [
    "def np_scalar_product(a,b):\n",
    "    #YOUR CODE\n",
    "    return np.dot(a, b)"
   ]
  },
  {
   "cell_type": "code",
   "execution_count": 12,
   "metadata": {
    "id": "BOQfYf-2aCQJ",
    "scrolled": true
   },
   "outputs": [
    {
     "name": "stdout",
     "output_type": "stream",
     "text": [
      "Wall time: 0 ns\n",
      "Wall time: 0 ns\n"
     ]
    },
    {
     "data": {
      "text/plain": [
       "0.0"
      ]
     },
     "execution_count": 12,
     "metadata": {},
     "output_type": "execute_result"
    }
   ],
   "source": [
    "%time product_1 = scalar_product(a,b)\n",
    "%time product_2 = np_scalar_product(a,b)\n",
    "# проверим корректность:\n",
    "np.abs(product_1 - product_2).sum()"
   ]
  },
  {
   "cell_type": "markdown",
   "metadata": {
    "id": "NHaHu6q1K7mH"
   },
   "source": [
    "Почему методы ***numpy*** оказываются эффективнее? Что вы можете сказать о скорости вычислений в NumPy?"
   ]
  },
  {
   "cell_type": "markdown",
   "metadata": {
    "id": "PqsTAb1M7TTQ"
   },
   "source": [
    "------------------"
   ]
  },
  {
   "cell_type": "markdown",
   "metadata": {
    "id": "_A3p2s4eK7mI"
   },
   "source": [
    "**Ответ:** Скорость вычислений вектоных и матричных операций в NumPy сильно превосходит скорость вычислений без него, по большей части потому, что функции numpy работаю с массивами данных одного типа (числовыми), это позволяет реализовать встроенные функции numpy на C/C++, что, конечно, делает numpy быстрее (функции, которые вызывает Numpy для работы с числовыми данными, сильно оптимизированы именно под эти задачи, а сам Python просто гоняет интерпретатор по циклу в таких операциях, что является чуть ли не самым большим замедлением в работе интерпретатора)."
   ]
  },
  {
   "cell_type": "markdown",
   "metadata": {
    "id": "mJXeUuznK7lm"
   },
   "source": [
    "### Задание 3\n",
    "Напишите функцию, которая находим сумму четных диагональныех элементов квадратной матрицы. Если таких элементов нет, то вывести `0`. Используйте библиотеку Numpy"
   ]
  },
  {
   "cell_type": "code",
   "execution_count": 13,
   "metadata": {
    "id": "qYNiKbK47TTS"
   },
   "outputs": [],
   "source": [
    "# функция, решающая задачу с помощью NumPy\n",
    "def np_diag_2k(a):\n",
    "    #YOUR CODE\n",
    "    diag = np.diagonal(a, offset=0, axis1=0, axis2=1)\n",
    "    return diag[diag % 2 == 0].sum()"
   ]
  },
  {
   "cell_type": "code",
   "execution_count": 14,
   "metadata": {
    "id": "BdInn8_j7TTU"
   },
   "outputs": [
    {
     "data": {
      "text/plain": [
       "array([[2, 6, 5, 6, 3],\n",
       "       [3, 6, 2, 2, 7],\n",
       "       [9, 5, 8, 1, 3],\n",
       "       [8, 5, 9, 4, 2],\n",
       "       [6, 1, 1, 4, 4]])"
      ]
     },
     "execution_count": 14,
     "metadata": {},
     "output_type": "execute_result"
    }
   ],
   "source": [
    "# зададим некоторую квадратную матрицу\n",
    "a = np.random.randint(1, 10, size=(5, 5))\n",
    "a"
   ]
  },
  {
   "cell_type": "code",
   "execution_count": 15,
   "metadata": {
    "id": "ZR97Nt9N7TTW"
   },
   "outputs": [
    {
     "name": "stdout",
     "output_type": "stream",
     "text": [
      "Wall time: 1.03 ms\n"
     ]
    },
    {
     "data": {
      "text/plain": [
       "24"
      ]
     },
     "execution_count": 15,
     "metadata": {},
     "output_type": "execute_result"
    }
   ],
   "source": [
    "%%time\n",
    "# засечем время работы функции с NumPy\n",
    "np_diag_2k(a)"
   ]
  },
  {
   "cell_type": "markdown",
   "metadata": {
    "id": "cdcRkFzQ7TTY"
   },
   "source": [
    "### Задание 4\n",
    "​\n",
    "​\n",
    "На вход дан двумерный массив $X$. Напишите функцию, которая для каждой строчки $(x = (x_1, x_2, \\ldots, x_n)$ массива $X$ строит строчку $s = (s_1, s_2, \\ldots, s_n)$, s_k=x_1+...+x_k, а затем выдаёт массив из построенных строчек. Используйте библиотеку <code>numpy</code> (вам поможет функция <code>cumsum</code>). Выходом функции должен быть двумерный <code>numpy</code>-массив той же формы, что и $X$.\n",
    "\n",
    "\n",
    "​\n",
    "\n",
    "​ "
   ]
  },
  {
   "cell_type": "code",
   "execution_count": 16,
   "metadata": {
    "id": "REgL39ksK7lr"
   },
   "outputs": [],
   "source": [
    "# функция, решающая задачу с помощью NumPy\n",
    "def cumsum(A):\n",
    "    #param A: np.array[m,n]\n",
    "    #YOUR CODE\n",
    "\n",
    "    result = np.cumsum(A, axis=1)\n",
    "    return result"
   ]
  },
  {
   "cell_type": "markdown",
   "metadata": {
    "id": "teVCPWZmK7l5"
   },
   "source": [
    "### Задание 5\n",
    "\n",
    "​\n",
    "Задан двумерный массив $X$. Для каждой строчки массива X необходимо сделать следующее преобразование.\n",
    "\n",
    "Пусть дана строчка x. Необходимо построить новый массив, где все элементы с нечетными индексами требуется заменить на число a (значение по умолчанию a=1). Все элементы с четными индексами нужно возвести в куб. Затем записать элементы в обратном порядке относительно их позиций. В конце требуется слить массив x с преобразованным x и вывести.\n",
    "\n",
    "Напишите функцию, которая выполняет данное преобразование для каждой строчки двумерного массива X. Массив X при этом должен остаться без изменений.\n",
    "\n",
    "Используйте библиотеку numpy.\n",
    "\n",
    "Пример:\n",
    "$X = [[100,200,300,400,500]]$ -> $[[100,a,300,a,500]]$ -> $[[500^3,a,300^3,a,100^3]]$ -> склеиваем -> $[[100,200,300,400,500,500^3,a,300^3,a,100^3]]$\n",
    "\n",
    "​"
   ]
  },
  {
   "cell_type": "code",
   "execution_count": 19,
   "metadata": {
    "id": "0hmcvfDVK7l-"
   },
   "outputs": [],
   "source": [
    "# функция, решающая задачу с помощью NumPy\n",
    "from copy import copy\n",
    "def np_transformation(X, a=1):\n",
    "    #YOUR CODE\n",
    "    Y = X.copy()\n",
    "    Y[:, 1::2] = a\n",
    "    Y[:, 0::2] **= 3\n",
    "    Y = Y[:, ::-1]\n",
    "    \n",
    "    return np.hstack((X, Y))"
   ]
  },
  {
   "cell_type": "code",
   "execution_count": 20,
   "metadata": {},
   "outputs": [
    {
     "data": {
      "text/plain": [
       "array([[  1,   2,   3,   4,   5, 125,   1,  27,   1,   1],\n",
       "       [  1,   2,   3,   4,   5, 125,   1,  27,   1,   1]])"
      ]
     },
     "execution_count": 20,
     "metadata": {},
     "output_type": "execute_result"
    }
   ],
   "source": [
    "X = np.array([[1,2,3,4,5],[1,2,3,4,5]])\n",
    "np_transformation(X)"
   ]
  },
  {
   "cell_type": "markdown",
   "metadata": {
    "id": "qa521fce7TTk"
   },
   "source": [
    "### Задание 6\n",
    "Написать функцию для кодирование массива (Run-length encoding). Все подряд повторения элементов функция сжимает в один элемент и считает количество повторений. Функция возвращает кортеж из двух векторов одинаковой длины. Первый содержит элементы, а второй — сколько раз их нужно повторить. \n",
    "\n",
    "Пример: encode(np.array([1, 2, 2, 3, 3, 1, 1, 5, 5, 2, 3, 3])) = (np.array[1, 2, 3, 1, 5, 2, 3]), np.array[1, 2, 2, 2, 2, 1, 2])"
   ]
  },
  {
   "cell_type": "code",
   "execution_count": 23,
   "metadata": {},
   "outputs": [],
   "source": [
    "X = np.array([1, 2, 2, 3, 3, 1, 1, 5, 5, 2, 3, 3])"
   ]
  },
  {
   "cell_type": "code",
   "execution_count": 24,
   "metadata": {},
   "outputs": [
    {
     "data": {
      "text/plain": [
       "array([ 1,  0,  1,  0, -2,  0,  4,  0, -3,  1,  0])"
      ]
     },
     "execution_count": 24,
     "metadata": {},
     "output_type": "execute_result"
    }
   ],
   "source": [
    "diff = np.diff(X)  # array - разница между соседними элементами\n",
    "diff"
   ]
  },
  {
   "cell_type": "code",
   "execution_count": 25,
   "metadata": {},
   "outputs": [
    {
     "data": {
      "text/plain": [
       "(array([0, 2, 4, 6, 8, 9], dtype=int64),)"
      ]
     },
     "execution_count": 25,
     "metadata": {},
     "output_type": "execute_result"
    }
   ],
   "source": [
    "np.where(diff != 0)"
   ]
  },
  {
   "cell_type": "code",
   "execution_count": 26,
   "metadata": {},
   "outputs": [
    {
     "data": {
      "text/plain": [
       "array([ 1,  3,  5,  7,  9, 10], dtype=int64)"
      ]
     },
     "execution_count": 26,
     "metadata": {},
     "output_type": "execute_result"
    }
   ],
   "source": [
    "result = list(*np.where(diff != 0))  # индексы соседних элементов, которые различны\n",
    "result = np.array(result)\n",
    "result += 1 # сдвиг вправо для корректного деления по индексам\n",
    "result"
   ]
  },
  {
   "cell_type": "code",
   "execution_count": 27,
   "metadata": {},
   "outputs": [
    {
     "data": {
      "text/plain": [
       "[array([1]),\n",
       " array([2, 2]),\n",
       " array([3, 3]),\n",
       " array([1, 1]),\n",
       " array([5, 5]),\n",
       " array([2]),\n",
       " array([3, 3])]"
      ]
     },
     "execution_count": 27,
     "metadata": {},
     "output_type": "execute_result"
    }
   ],
   "source": [
    "np.split(X, result)"
   ]
  },
  {
   "cell_type": "code",
   "execution_count": 28,
   "metadata": {},
   "outputs": [
    {
     "name": "stdout",
     "output_type": "stream",
     "text": [
      "[5]\n",
      "[2]\n"
     ]
    }
   ],
   "source": [
    "unique,  counts = np.unique(np.array([5, 5]), return_counts=True)\n",
    "print(unique)\n",
    "print(counts)"
   ]
  },
  {
   "cell_type": "code",
   "execution_count": 29,
   "metadata": {
    "id": "4wD7OSVv7TTl"
   },
   "outputs": [],
   "source": [
    "# функция, решающая задачу с помощью NumPy\n",
    "\n",
    "def np_encode(a):\n",
    "    #YOUR CODE\n",
    "    diff = np.diff(a) # array - разница между соседними элементами\n",
    "    result = list(*np.where(diff != 0)) # индексы соседних элементов, которые различны\n",
    "    result = np.array(result)\n",
    "    result += 1 # сдвиг вправо для корректного деления по индексам\n",
    "    \n",
    "    elem_list, count_list = [], []\n",
    "    \n",
    "    for i in np.split(a, result):\n",
    "        unique, counts = np.unique(i, return_counts=True)\n",
    "        elem_list.append(*unique)\n",
    "        count_list.append(*counts)\n",
    "    return (np.array(elem_list), np.array(count_list))    "
   ]
  },
  {
   "cell_type": "code",
   "execution_count": 30,
   "metadata": {
    "id": "P7YxojET7TTn",
    "scrolled": true
   },
   "outputs": [
    {
     "name": "stdout",
     "output_type": "stream",
     "text": [
      "Wall time: 0 ns\n"
     ]
    }
   ],
   "source": [
    "X = np.array([1, 2, 2, 3, 3, 1, 1, 5, 5, 2, 3, 3])\n",
    "\n",
    "%time x, num = np_encode(X)"
   ]
  },
  {
   "cell_type": "code",
   "execution_count": 31,
   "metadata": {
    "id": "UFEfPGvY7TTp"
   },
   "outputs": [
    {
     "data": {
      "text/plain": [
       "array([1, 2, 3, 1, 5, 2, 3])"
      ]
     },
     "execution_count": 31,
     "metadata": {},
     "output_type": "execute_result"
    }
   ],
   "source": [
    "x"
   ]
  },
  {
   "cell_type": "code",
   "execution_count": 32,
   "metadata": {},
   "outputs": [
    {
     "data": {
      "text/plain": [
       "array([1, 2, 2, 2, 2, 1, 2], dtype=int64)"
      ]
     },
     "execution_count": 32,
     "metadata": {},
     "output_type": "execute_result"
    }
   ],
   "source": [
    "num"
   ]
  },
  {
   "cell_type": "code",
   "execution_count": null,
   "metadata": {},
   "outputs": [],
   "source": []
  }
 ],
 "metadata": {
  "colab": {
   "collapsed_sections": [],
   "name": "[homework,basic]numpy.ipynb",
   "provenance": []
  },
  "kernelspec": {
   "display_name": "Python 3",
   "language": "python",
   "name": "python3"
  },
  "language_info": {
   "codemirror_mode": {
    "name": "ipython",
    "version": 3
   },
   "file_extension": ".py",
   "mimetype": "text/x-python",
   "name": "python",
   "nbconvert_exporter": "python",
   "pygments_lexer": "ipython3",
   "version": "3.8.5"
  }
 },
 "nbformat": 4,
 "nbformat_minor": 1
}
